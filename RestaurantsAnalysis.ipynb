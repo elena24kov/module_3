{
 "cells": [
  {
   "cell_type": "markdown",
   "metadata": {},
   "source": [
    "# Preparation: importing libraries and loading data"
   ]
  },
  {
   "cell_type": "code",
   "execution_count": 3,
   "metadata": {},
   "outputs": [
    {
     "name": "stdout",
     "output_type": "stream",
     "text": [
      "<class 'pandas.core.frame.DataFrame'>\n",
      "RangeIndex: 40000 entries, 0 to 39999\n",
      "Data columns (total 10 columns):\n",
      " #   Column             Non-Null Count  Dtype  \n",
      "---  ------             --------------  -----  \n",
      " 0   Restaurant_id      40000 non-null  object \n",
      " 1   City               40000 non-null  object \n",
      " 2   Cuisine Style      30717 non-null  object \n",
      " 3   Ranking            40000 non-null  float64\n",
      " 4   Rating             40000 non-null  float64\n",
      " 5   Price Range        26114 non-null  object \n",
      " 6   Number of Reviews  37457 non-null  float64\n",
      " 7   Reviews            40000 non-null  object \n",
      " 8   URL_TA             40000 non-null  object \n",
      " 9   ID_TA              40000 non-null  object \n",
      "dtypes: float64(3), object(7)\n",
      "memory usage: 3.1+ MB\n"
     ]
    }
   ],
   "source": [
    "import pandas as pd\n",
    "data = pd.read_csv('main_task.xlt')\n",
    "data.info()"
   ]
  },
  {
   "cell_type": "code",
   "execution_count": 24,
   "metadata": {},
   "outputs": [
    {
     "data": {
      "text/plain": [
       "str"
      ]
     },
     "execution_count": 24,
     "metadata": {},
     "output_type": "execute_result"
    }
   ],
   "source": [
    "type(data['Cuisine Style'][0])"
   ]
  },
  {
   "cell_type": "code",
   "execution_count": 33,
   "metadata": {},
   "outputs": [
    {
     "data": {
      "text/html": [
       "<div>\n",
       "<style scoped>\n",
       "    .dataframe tbody tr th:only-of-type {\n",
       "        vertical-align: middle;\n",
       "    }\n",
       "\n",
       "    .dataframe tbody tr th {\n",
       "        vertical-align: top;\n",
       "    }\n",
       "\n",
       "    .dataframe thead th {\n",
       "        text-align: right;\n",
       "    }\n",
       "</style>\n",
       "<table border=\"1\" class=\"dataframe\">\n",
       "  <thead>\n",
       "    <tr style=\"text-align: right;\">\n",
       "      <th></th>\n",
       "      <th>Restaurant_id</th>\n",
       "      <th>City</th>\n",
       "      <th>Cuisine Style</th>\n",
       "      <th>Ranking</th>\n",
       "      <th>Rating</th>\n",
       "      <th>Price Range</th>\n",
       "      <th>Number of Reviews</th>\n",
       "      <th>Reviews</th>\n",
       "      <th>URL_TA</th>\n",
       "      <th>ID_TA</th>\n",
       "    </tr>\n",
       "  </thead>\n",
       "  <tbody>\n",
       "    <tr>\n",
       "      <th>33</th>\n",
       "      <td>id_2434</td>\n",
       "      <td>Lyon</td>\n",
       "      <td>['Vietnamese']</td>\n",
       "      <td>2435.0</td>\n",
       "      <td>3.0</td>\n",
       "      <td>NaN</td>\n",
       "      <td>4.0</td>\n",
       "      <td>[[], []]</td>\n",
       "      <td>/Restaurant_Review-g187265-d3543959-Reviews-Vi...</td>\n",
       "      <td>d3543959</td>\n",
       "    </tr>\n",
       "    <tr>\n",
       "      <th>56</th>\n",
       "      <td>id_1585</td>\n",
       "      <td>Lyon</td>\n",
       "      <td>['Italian']</td>\n",
       "      <td>1586.0</td>\n",
       "      <td>4.0</td>\n",
       "      <td>$$ - $$$</td>\n",
       "      <td>25.0</td>\n",
       "      <td>[['Too busy and too important to serve custom....</td>\n",
       "      <td>/Restaurant_Review-g187265-d4295258-Reviews-Es...</td>\n",
       "      <td>d4295258</td>\n",
       "    </tr>\n",
       "    <tr>\n",
       "      <th>90</th>\n",
       "      <td>id_499</td>\n",
       "      <td>Lyon</td>\n",
       "      <td>NaN</td>\n",
       "      <td>500.0</td>\n",
       "      <td>4.5</td>\n",
       "      <td>NaN</td>\n",
       "      <td>45.0</td>\n",
       "      <td>[['Excellent crepes and cosy place'], ['10/14/...</td>\n",
       "      <td>/Restaurant_Review-g187265-d7623654-Reviews-Cr...</td>\n",
       "      <td>d7623654</td>\n",
       "    </tr>\n",
       "    <tr>\n",
       "      <th>103</th>\n",
       "      <td>id_197</td>\n",
       "      <td>Lyon</td>\n",
       "      <td>['French', 'European']</td>\n",
       "      <td>198.0</td>\n",
       "      <td>4.0</td>\n",
       "      <td>$$ - $$$</td>\n",
       "      <td>370.0</td>\n",
       "      <td>[['Lovely place to eat', 'Good food, but lacks...</td>\n",
       "      <td>/Restaurant_Review-g187265-d918784-Reviews-L_A...</td>\n",
       "      <td>d918784</td>\n",
       "    </tr>\n",
       "    <tr>\n",
       "      <th>105</th>\n",
       "      <td>id_1940</td>\n",
       "      <td>Lyon</td>\n",
       "      <td>['European', 'French', 'Seafood']</td>\n",
       "      <td>1941.0</td>\n",
       "      <td>3.0</td>\n",
       "      <td>$$ - $$$</td>\n",
       "      <td>354.0</td>\n",
       "      <td>[['Standard', 'Rather good and great ornament'...</td>\n",
       "      <td>/Restaurant_Review-g1166685-d1324029-Reviews-A...</td>\n",
       "      <td>d1324029</td>\n",
       "    </tr>\n",
       "    <tr>\n",
       "      <th>...</th>\n",
       "      <td>...</td>\n",
       "      <td>...</td>\n",
       "      <td>...</td>\n",
       "      <td>...</td>\n",
       "      <td>...</td>\n",
       "      <td>...</td>\n",
       "      <td>...</td>\n",
       "      <td>...</td>\n",
       "      <td>...</td>\n",
       "      <td>...</td>\n",
       "    </tr>\n",
       "    <tr>\n",
       "      <th>39817</th>\n",
       "      <td>id_1231</td>\n",
       "      <td>Lyon</td>\n",
       "      <td>['Latin', 'Bar', 'Spanish', 'Pub', 'Wine Bar',...</td>\n",
       "      <td>1232.0</td>\n",
       "      <td>4.0</td>\n",
       "      <td>$$ - $$$</td>\n",
       "      <td>22.0</td>\n",
       "      <td>[['Nice place . Good atmosphere.', 'So good we...</td>\n",
       "      <td>/Restaurant_Review-g187265-d9841543-Reviews-Ma...</td>\n",
       "      <td>d9841543</td>\n",
       "    </tr>\n",
       "    <tr>\n",
       "      <th>39835</th>\n",
       "      <td>id_1051</td>\n",
       "      <td>Lyon</td>\n",
       "      <td>['French']</td>\n",
       "      <td>1052.0</td>\n",
       "      <td>4.0</td>\n",
       "      <td>$$ - $$$</td>\n",
       "      <td>122.0</td>\n",
       "      <td>[['Average overpriced brunch', 'Charming but l...</td>\n",
       "      <td>/Restaurant_Review-g187265-d1322748-Reviews-Le...</td>\n",
       "      <td>d1322748</td>\n",
       "    </tr>\n",
       "    <tr>\n",
       "      <th>39843</th>\n",
       "      <td>id_1659</td>\n",
       "      <td>Lyon</td>\n",
       "      <td>NaN</td>\n",
       "      <td>1660.0</td>\n",
       "      <td>3.5</td>\n",
       "      <td>NaN</td>\n",
       "      <td>25.0</td>\n",
       "      <td>[['Easy to veganize !'], ['05/31/2017']]</td>\n",
       "      <td>/Restaurant_Review-g187265-d11932831-Reviews-F...</td>\n",
       "      <td>d11932831</td>\n",
       "    </tr>\n",
       "    <tr>\n",
       "      <th>39981</th>\n",
       "      <td>id_924</td>\n",
       "      <td>Lyon</td>\n",
       "      <td>NaN</td>\n",
       "      <td>925.0</td>\n",
       "      <td>4.0</td>\n",
       "      <td>NaN</td>\n",
       "      <td>29.0</td>\n",
       "      <td>[[], []]</td>\n",
       "      <td>/Restaurant_Review-g187265-d5850306-Reviews-Re...</td>\n",
       "      <td>d5850306</td>\n",
       "    </tr>\n",
       "    <tr>\n",
       "      <th>39984</th>\n",
       "      <td>id_840</td>\n",
       "      <td>Lyon</td>\n",
       "      <td>['French', 'American', 'Cafe', 'Healthy', 'Sou...</td>\n",
       "      <td>841.0</td>\n",
       "      <td>5.0</td>\n",
       "      <td>$$ - $$$</td>\n",
       "      <td>10.0</td>\n",
       "      <td>[['Good Cookies and more'], ['11/03/2016']]</td>\n",
       "      <td>/Restaurant_Review-g187265-d11793820-Reviews-C...</td>\n",
       "      <td>d11793820</td>\n",
       "    </tr>\n",
       "  </tbody>\n",
       "</table>\n",
       "<p>892 rows × 10 columns</p>\n",
       "</div>"
      ],
      "text/plain": [
       "      Restaurant_id  City                                      Cuisine Style  \\\n",
       "33          id_2434  Lyon                                     ['Vietnamese']   \n",
       "56          id_1585  Lyon                                        ['Italian']   \n",
       "90           id_499  Lyon                                                NaN   \n",
       "103          id_197  Lyon                             ['French', 'European']   \n",
       "105         id_1940  Lyon                  ['European', 'French', 'Seafood']   \n",
       "...             ...   ...                                                ...   \n",
       "39817       id_1231  Lyon  ['Latin', 'Bar', 'Spanish', 'Pub', 'Wine Bar',...   \n",
       "39835       id_1051  Lyon                                         ['French']   \n",
       "39843       id_1659  Lyon                                                NaN   \n",
       "39981        id_924  Lyon                                                NaN   \n",
       "39984        id_840  Lyon  ['French', 'American', 'Cafe', 'Healthy', 'Sou...   \n",
       "\n",
       "       Ranking  Rating Price Range  Number of Reviews  \\\n",
       "33      2435.0     3.0         NaN                4.0   \n",
       "56      1586.0     4.0    $$ - $$$               25.0   \n",
       "90       500.0     4.5         NaN               45.0   \n",
       "103      198.0     4.0    $$ - $$$              370.0   \n",
       "105     1941.0     3.0    $$ - $$$              354.0   \n",
       "...        ...     ...         ...                ...   \n",
       "39817   1232.0     4.0    $$ - $$$               22.0   \n",
       "39835   1052.0     4.0    $$ - $$$              122.0   \n",
       "39843   1660.0     3.5         NaN               25.0   \n",
       "39981    925.0     4.0         NaN               29.0   \n",
       "39984    841.0     5.0    $$ - $$$               10.0   \n",
       "\n",
       "                                                 Reviews  \\\n",
       "33                                              [[], []]   \n",
       "56     [['Too busy and too important to serve custom....   \n",
       "90     [['Excellent crepes and cosy place'], ['10/14/...   \n",
       "103    [['Lovely place to eat', 'Good food, but lacks...   \n",
       "105    [['Standard', 'Rather good and great ornament'...   \n",
       "...                                                  ...   \n",
       "39817  [['Nice place . Good atmosphere.', 'So good we...   \n",
       "39835  [['Average overpriced brunch', 'Charming but l...   \n",
       "39843           [['Easy to veganize !'], ['05/31/2017']]   \n",
       "39981                                           [[], []]   \n",
       "39984        [['Good Cookies and more'], ['11/03/2016']]   \n",
       "\n",
       "                                                  URL_TA      ID_TA  \n",
       "33     /Restaurant_Review-g187265-d3543959-Reviews-Vi...   d3543959  \n",
       "56     /Restaurant_Review-g187265-d4295258-Reviews-Es...   d4295258  \n",
       "90     /Restaurant_Review-g187265-d7623654-Reviews-Cr...   d7623654  \n",
       "103    /Restaurant_Review-g187265-d918784-Reviews-L_A...    d918784  \n",
       "105    /Restaurant_Review-g1166685-d1324029-Reviews-A...   d1324029  \n",
       "...                                                  ...        ...  \n",
       "39817  /Restaurant_Review-g187265-d9841543-Reviews-Ma...   d9841543  \n",
       "39835  /Restaurant_Review-g187265-d1322748-Reviews-Le...   d1322748  \n",
       "39843  /Restaurant_Review-g187265-d11932831-Reviews-F...  d11932831  \n",
       "39981  /Restaurant_Review-g187265-d5850306-Reviews-Re...   d5850306  \n",
       "39984  /Restaurant_Review-g187265-d11793820-Reviews-C...  d11793820  \n",
       "\n",
       "[892 rows x 10 columns]"
      ]
     },
     "execution_count": 33,
     "metadata": {},
     "output_type": "execute_result"
    }
   ],
   "source": [
    "data[data.City == 'Lyon']"
   ]
  },
  {
   "cell_type": "code",
   "execution_count": 25,
   "metadata": {},
   "outputs": [
    {
     "data": {
      "text/html": [
       "<div>\n",
       "<style scoped>\n",
       "    .dataframe tbody tr th:only-of-type {\n",
       "        vertical-align: middle;\n",
       "    }\n",
       "\n",
       "    .dataframe tbody tr th {\n",
       "        vertical-align: top;\n",
       "    }\n",
       "\n",
       "    .dataframe thead th {\n",
       "        text-align: right;\n",
       "    }\n",
       "</style>\n",
       "<table border=\"1\" class=\"dataframe\">\n",
       "  <thead>\n",
       "    <tr style=\"text-align: right;\">\n",
       "      <th></th>\n",
       "      <th>Restaurant_id</th>\n",
       "      <th>City</th>\n",
       "      <th>Cuisine Style</th>\n",
       "      <th>Ranking</th>\n",
       "      <th>Rating</th>\n",
       "      <th>Price Range</th>\n",
       "      <th>Number of Reviews</th>\n",
       "      <th>Reviews</th>\n",
       "      <th>URL_TA</th>\n",
       "      <th>ID_TA</th>\n",
       "    </tr>\n",
       "  </thead>\n",
       "  <tbody>\n",
       "    <tr>\n",
       "      <th>0</th>\n",
       "      <td>id_5569</td>\n",
       "      <td>Paris</td>\n",
       "      <td>['European', 'French', 'International']</td>\n",
       "      <td>5570.0</td>\n",
       "      <td>3.5</td>\n",
       "      <td>$$ - $$$</td>\n",
       "      <td>194.0</td>\n",
       "      <td>[['Good food at your doorstep', 'A good hotel ...</td>\n",
       "      <td>/Restaurant_Review-g187147-d1912643-Reviews-R_...</td>\n",
       "      <td>d1912643</td>\n",
       "    </tr>\n",
       "    <tr>\n",
       "      <th>1</th>\n",
       "      <td>id_1535</td>\n",
       "      <td>Stockholm</td>\n",
       "      <td>NaN</td>\n",
       "      <td>1537.0</td>\n",
       "      <td>4.0</td>\n",
       "      <td>NaN</td>\n",
       "      <td>10.0</td>\n",
       "      <td>[['Unique cuisine', 'Delicious Nepalese food']...</td>\n",
       "      <td>/Restaurant_Review-g189852-d7992032-Reviews-Bu...</td>\n",
       "      <td>d7992032</td>\n",
       "    </tr>\n",
       "    <tr>\n",
       "      <th>2</th>\n",
       "      <td>id_352</td>\n",
       "      <td>London</td>\n",
       "      <td>['Japanese', 'Sushi', 'Asian', 'Grill', 'Veget...</td>\n",
       "      <td>353.0</td>\n",
       "      <td>4.5</td>\n",
       "      <td>$$$$</td>\n",
       "      <td>688.0</td>\n",
       "      <td>[['Catch up with friends', 'Not exceptional'],...</td>\n",
       "      <td>/Restaurant_Review-g186338-d8632781-Reviews-RO...</td>\n",
       "      <td>d8632781</td>\n",
       "    </tr>\n",
       "  </tbody>\n",
       "</table>\n",
       "</div>"
      ],
      "text/plain": [
       "  Restaurant_id       City                                      Cuisine Style  \\\n",
       "0       id_5569      Paris            ['European', 'French', 'International']   \n",
       "1       id_1535  Stockholm                                                NaN   \n",
       "2        id_352     London  ['Japanese', 'Sushi', 'Asian', 'Grill', 'Veget...   \n",
       "\n",
       "   Ranking  Rating Price Range  Number of Reviews  \\\n",
       "0   5570.0     3.5    $$ - $$$              194.0   \n",
       "1   1537.0     4.0         NaN               10.0   \n",
       "2    353.0     4.5        $$$$              688.0   \n",
       "\n",
       "                                             Reviews  \\\n",
       "0  [['Good food at your doorstep', 'A good hotel ...   \n",
       "1  [['Unique cuisine', 'Delicious Nepalese food']...   \n",
       "2  [['Catch up with friends', 'Not exceptional'],...   \n",
       "\n",
       "                                              URL_TA     ID_TA  \n",
       "0  /Restaurant_Review-g187147-d1912643-Reviews-R_...  d1912643  \n",
       "1  /Restaurant_Review-g189852-d7992032-Reviews-Bu...  d7992032  \n",
       "2  /Restaurant_Review-g186338-d8632781-Reviews-RO...  d8632781  "
      ]
     },
     "execution_count": 25,
     "metadata": {},
     "output_type": "execute_result"
    }
   ],
   "source": [
    "data.head(3)"
   ]
  },
  {
   "cell_type": "markdown",
   "metadata": {},
   "source": [
    "# Разбиваем датафрейм на части, необходимые для обучения и тестирования модели (copied from SF)"
   ]
  },
  {
   "cell_type": "code",
   "execution_count": 26,
   "metadata": {},
   "outputs": [],
   "source": [
    "# Х - данные с информацией о ресторанах, у - целевая переменная (рейтинги ресторанов)\n",
    "X = data.drop(['Restaurant_id', 'Rating'], axis = 1)\n",
    "y = data['Rating']"
   ]
  },
  {
   "cell_type": "code",
   "execution_count": 85,
   "metadata": {},
   "outputs": [],
   "source": [
    "# Загружаем специальный инструмент для разбивки:\n",
    "from sklearn.model_selection import train_test_split"
   ]
  },
  {
   "cell_type": "code",
   "execution_count": 28,
   "metadata": {},
   "outputs": [],
   "source": [
    "# Наборы данных с меткой \"train\" будут использоваться для обучения модели, \"test\" - для тестирования.\n",
    "# Для тестирования мы будем использовать 25% от исходного датасета.\n",
    "X_train, X_test, y_train, y_test = train_test_split(X, y, test_size=0.25)"
   ]
  },
  {
   "cell_type": "markdown",
   "metadata": {},
   "source": [
    "# СОЗДАНИЕ, ОБУЧЕНИЕ И ТЕСТИРОВАНИЕ МОДЕЛИ (copied from SF)"
   ]
  },
  {
   "cell_type": "code",
   "execution_count": 87,
   "metadata": {},
   "outputs": [],
   "source": [
    "# Импортируем необходимые библиотеки:\n",
    "from sklearn.ensemble import RandomForestRegressor # инструмент для создания и обучения модели\n",
    "from sklearn import metrics # инструменты для оценки точности модели"
   ]
  },
  {
   "cell_type": "code",
   "execution_count": 5,
   "metadata": {},
   "outputs": [
    {
     "ename": "NameError",
     "evalue": "name 'X_train' is not defined",
     "output_type": "error",
     "traceback": [
      "\u001b[1;31m---------------------------------------------------------------------------\u001b[0m",
      "\u001b[1;31mNameError\u001b[0m                                 Traceback (most recent call last)",
      "\u001b[1;32m<ipython-input-5-d417683147ce>\u001b[0m in \u001b[0;36m<module>\u001b[1;34m\u001b[0m\n\u001b[0;32m      3\u001b[0m \u001b[1;33m\u001b[0m\u001b[0m\n\u001b[0;32m      4\u001b[0m \u001b[1;31m# Обучаем модель на тестовом наборе данных\u001b[0m\u001b[1;33m\u001b[0m\u001b[1;33m\u001b[0m\u001b[1;33m\u001b[0m\u001b[0m\n\u001b[1;32m----> 5\u001b[1;33m \u001b[0mregr\u001b[0m\u001b[1;33m.\u001b[0m\u001b[0mfit\u001b[0m\u001b[1;33m(\u001b[0m\u001b[0mX_train\u001b[0m\u001b[1;33m,\u001b[0m \u001b[0my_train\u001b[0m\u001b[1;33m)\u001b[0m\u001b[1;33m\u001b[0m\u001b[1;33m\u001b[0m\u001b[0m\n\u001b[0m\u001b[0;32m      6\u001b[0m \u001b[1;33m\u001b[0m\u001b[0m\n\u001b[0;32m      7\u001b[0m \u001b[1;31m# Используем обученную модель для предсказания рейтинга ресторанов в тестовой выборке.\u001b[0m\u001b[1;33m\u001b[0m\u001b[1;33m\u001b[0m\u001b[1;33m\u001b[0m\u001b[0m\n",
      "\u001b[1;31mNameError\u001b[0m: name 'X_train' is not defined"
     ]
    }
   ],
   "source": [
    "# Создаём модель\n",
    "regr = RandomForestRegressor(n_estimators=100)\n",
    "\n",
    "# Обучаем модель на тестовом наборе данных\n",
    "regr.fit(X_train, y_train)\n",
    "\n",
    "# Используем обученную модель для предсказания рейтинга ресторанов в тестовой выборке.\n",
    "# Предсказанные значения записываем в переменную y_pred\n",
    "y_pred = regr.predict(X_test)"
   ]
  },
  {
   "cell_type": "code",
   "execution_count": 6,
   "metadata": {},
   "outputs": [
    {
     "ename": "NameError",
     "evalue": "name 'y_test' is not defined",
     "output_type": "error",
     "traceback": [
      "\u001b[1;31m---------------------------------------------------------------------------\u001b[0m",
      "\u001b[1;31mNameError\u001b[0m                                 Traceback (most recent call last)",
      "\u001b[1;32m<ipython-input-6-e56e003c1109>\u001b[0m in \u001b[0;36m<module>\u001b[1;34m\u001b[0m\n\u001b[0;32m      1\u001b[0m \u001b[1;31m# Сравниваем предсказанные значения (y_pred) с реальными (y_test), и смотрим насколько они в среднем отличаются\u001b[0m\u001b[1;33m\u001b[0m\u001b[1;33m\u001b[0m\u001b[1;33m\u001b[0m\u001b[0m\n\u001b[0;32m      2\u001b[0m \u001b[1;31m# Метрика называется Mean Absolute Error (MAE) и показывает среднее отклонение предсказанных значений от фактических.\u001b[0m\u001b[1;33m\u001b[0m\u001b[1;33m\u001b[0m\u001b[1;33m\u001b[0m\u001b[0m\n\u001b[1;32m----> 3\u001b[1;33m \u001b[0mprint\u001b[0m\u001b[1;33m(\u001b[0m\u001b[1;34m'MAE:'\u001b[0m\u001b[1;33m,\u001b[0m \u001b[0mmetrics\u001b[0m\u001b[1;33m.\u001b[0m\u001b[0mmean_absolute_error\u001b[0m\u001b[1;33m(\u001b[0m\u001b[0my_test\u001b[0m\u001b[1;33m,\u001b[0m \u001b[0my_pred\u001b[0m\u001b[1;33m)\u001b[0m\u001b[1;33m)\u001b[0m\u001b[1;33m\u001b[0m\u001b[1;33m\u001b[0m\u001b[0m\n\u001b[0m",
      "\u001b[1;31mNameError\u001b[0m: name 'y_test' is not defined"
     ]
    }
   ],
   "source": [
    "# Сравниваем предсказанные значения (y_pred) с реальными (y_test), и смотрим насколько они в среднем отличаются\n",
    "# Метрика называется Mean Absolute Error (MAE) и показывает среднее отклонение предсказанных значений от фактических.\n",
    "print('MAE:', metrics.mean_absolute_error(y_test, y_pred))"
   ]
  },
  {
   "cell_type": "code",
   "execution_count": 35,
   "metadata": {},
   "outputs": [],
   "source": [
    "clean_data = data.drop(['Restaurant_id', 'City', 'Cuisine Style', 'Price Range', 'Reviews', 'URL_TA', 'ID_TA'], axis = 1)"
   ]
  },
  {
   "cell_type": "code",
   "execution_count": 37,
   "metadata": {
    "scrolled": true
   },
   "outputs": [
    {
     "data": {
      "text/html": [
       "<div>\n",
       "<style scoped>\n",
       "    .dataframe tbody tr th:only-of-type {\n",
       "        vertical-align: middle;\n",
       "    }\n",
       "\n",
       "    .dataframe tbody tr th {\n",
       "        vertical-align: top;\n",
       "    }\n",
       "\n",
       "    .dataframe thead th {\n",
       "        text-align: right;\n",
       "    }\n",
       "</style>\n",
       "<table border=\"1\" class=\"dataframe\">\n",
       "  <thead>\n",
       "    <tr style=\"text-align: right;\">\n",
       "      <th></th>\n",
       "      <th>Ranking</th>\n",
       "      <th>Rating</th>\n",
       "      <th>Number of Reviews</th>\n",
       "    </tr>\n",
       "  </thead>\n",
       "  <tbody>\n",
       "    <tr>\n",
       "      <th>Ranking</th>\n",
       "      <td>1.000000</td>\n",
       "      <td>-0.368371</td>\n",
       "      <td>-0.222670</td>\n",
       "    </tr>\n",
       "    <tr>\n",
       "      <th>Rating</th>\n",
       "      <td>-0.368371</td>\n",
       "      <td>1.000000</td>\n",
       "      <td>0.030964</td>\n",
       "    </tr>\n",
       "    <tr>\n",
       "      <th>Number of Reviews</th>\n",
       "      <td>-0.222670</td>\n",
       "      <td>0.030964</td>\n",
       "      <td>1.000000</td>\n",
       "    </tr>\n",
       "  </tbody>\n",
       "</table>\n",
       "</div>"
      ],
      "text/plain": [
       "                    Ranking    Rating  Number of Reviews\n",
       "Ranking            1.000000 -0.368371          -0.222670\n",
       "Rating            -0.368371  1.000000           0.030964\n",
       "Number of Reviews -0.222670  0.030964           1.000000"
      ]
     },
     "execution_count": 37,
     "metadata": {},
     "output_type": "execute_result"
    }
   ],
   "source": [
    "clean_data.corr()"
   ]
  },
  {
   "cell_type": "code",
   "execution_count": 38,
   "metadata": {},
   "outputs": [
    {
     "data": {
      "text/plain": [
       "<seaborn.axisgrid.PairGrid at 0xe87f7f0>"
      ]
     },
     "execution_count": 38,
     "metadata": {},
     "output_type": "execute_result"
    },
    {
     "data": {
      "image/png": "[encoded data removed]",
      "text/plain": [
       "<Figure size 540x540 with 12 Axes>"
      ]
     },
     "metadata": {
      "needs_background": "light"
     },
     "output_type": "display_data"
    }
   ],
   "source": [
    "import seaborn as sns\n",
    "sns.pairplot(clean_data, kind = 'reg')"
   ]
  },
  {
   "cell_type": "code",
   "execution_count": 46,
   "metadata": {},
   "outputs": [
    {
     "data": {
      "text/html": [
       "<div>\n",
       "<style scoped>\n",
       "    .dataframe tbody tr th:only-of-type {\n",
       "        vertical-align: middle;\n",
       "    }\n",
       "\n",
       "    .dataframe tbody tr th {\n",
       "        vertical-align: top;\n",
       "    }\n",
       "\n",
       "    .dataframe thead th {\n",
       "        text-align: right;\n",
       "    }\n",
       "</style>\n",
       "<table border=\"1\" class=\"dataframe\">\n",
       "  <thead>\n",
       "    <tr style=\"text-align: right;\">\n",
       "      <th></th>\n",
       "      <th>Ranking</th>\n",
       "      <th>Rating</th>\n",
       "      <th>Number of Reviews</th>\n",
       "    </tr>\n",
       "  </thead>\n",
       "  <tbody>\n",
       "  </tbody>\n",
       "</table>\n",
       "</div>"
      ],
      "text/plain": [
       "Empty DataFrame\n",
       "Columns: [Ranking, Rating, Number of Reviews]\n",
       "Index: []"
      ]
     },
     "execution_count": 46,
     "metadata": {},
     "output_type": "execute_result"
    }
   ],
   "source": [
    "# no records with no reviews:\n",
    "clean_data[clean_data['Number of Reviews'] == 0]"
   ]
  },
  {
   "cell_type": "code",
   "execution_count": 47,
   "metadata": {},
   "outputs": [],
   "source": [
    "clean_data['Number of Reviews'].fillna(0, inplace = True)"
   ]
  },
  {
   "cell_type": "code",
   "execution_count": 49,
   "metadata": {},
   "outputs": [
    {
     "data": {
      "text/html": [
       "<div>\n",
       "<style scoped>\n",
       "    .dataframe tbody tr th:only-of-type {\n",
       "        vertical-align: middle;\n",
       "    }\n",
       "\n",
       "    .dataframe tbody tr th {\n",
       "        vertical-align: top;\n",
       "    }\n",
       "\n",
       "    .dataframe thead th {\n",
       "        text-align: right;\n",
       "    }\n",
       "</style>\n",
       "<table border=\"1\" class=\"dataframe\">\n",
       "  <thead>\n",
       "    <tr style=\"text-align: right;\">\n",
       "      <th></th>\n",
       "      <th>Ranking</th>\n",
       "      <th>Rating</th>\n",
       "      <th>Number of Reviews</th>\n",
       "    </tr>\n",
       "  </thead>\n",
       "  <tbody>\n",
       "    <tr>\n",
       "      <th>Ranking</th>\n",
       "      <td>1.000000</td>\n",
       "      <td>-0.368371</td>\n",
       "      <td>-0.222072</td>\n",
       "    </tr>\n",
       "    <tr>\n",
       "      <th>Rating</th>\n",
       "      <td>-0.368371</td>\n",
       "      <td>1.000000</td>\n",
       "      <td>0.026924</td>\n",
       "    </tr>\n",
       "    <tr>\n",
       "      <th>Number of Reviews</th>\n",
       "      <td>-0.222072</td>\n",
       "      <td>0.026924</td>\n",
       "      <td>1.000000</td>\n",
       "    </tr>\n",
       "  </tbody>\n",
       "</table>\n",
       "</div>"
      ],
      "text/plain": [
       "                    Ranking    Rating  Number of Reviews\n",
       "Ranking            1.000000 -0.368371          -0.222072\n",
       "Rating            -0.368371  1.000000           0.026924\n",
       "Number of Reviews -0.222072  0.026924           1.000000"
      ]
     },
     "execution_count": 49,
     "metadata": {},
     "output_type": "execute_result"
    }
   ],
   "source": [
    "clean_data.corr()"
   ]
  },
  {
   "cell_type": "code",
   "execution_count": 51,
   "metadata": {},
   "outputs": [],
   "source": [
    "X_cl = clean_data.drop(['Rating'], axis = 1)\n",
    "y_cl = clean_data['Rating']\n",
    "# Наборы данных с меткой \"train\" будут использоваться для обучения модели, \"test\" - для тестирования.\n",
    "# Для тестирования мы будем использовать 25% от исходного датасета.\n",
    "X_train, X_test, y_train, y_test = train_test_split(X_cl, y_cl, test_size=0.25)"
   ]
  },
  {
   "cell_type": "code",
   "execution_count": 52,
   "metadata": {},
   "outputs": [],
   "source": [
    "# Создаём модель\n",
    "regr = RandomForestRegressor(n_estimators=100)\n",
    "\n",
    "# Обучаем модель на тестовом наборе данных\n",
    "regr.fit(X_train, y_train)\n",
    "\n",
    "# Используем обученную модель для предсказания рейтинга ресторанов в тестовой выборке.\n",
    "# Предсказанные значения записываем в переменную y_pred\n",
    "y_pred = regr.predict(X_test)"
   ]
  },
  {
   "cell_type": "code",
   "execution_count": 53,
   "metadata": {},
   "outputs": [
    {
     "name": "stdout",
     "output_type": "stream",
     "text": [
      "MAE: 0.4291780027777778\n"
     ]
    }
   ],
   "source": [
    "# Сравниваем предсказанные значения (y_pred) с реальными (y_test), и смотрим насколько они в среднем отличаются\n",
    "# Метрика называется Mean Absolute Error (MAE) и показывает среднее отклонение предсказанных значений от фактических.\n",
    "print('MAE:', metrics.mean_absolute_error(y_test, y_pred))"
   ]
  },
  {
   "cell_type": "code",
   "execution_count": 7,
   "metadata": {},
   "outputs": [
    {
     "data": {
      "text/plain": [
       "$$ - $$$    18412\n",
       "$            6279\n",
       "$$$$         1423\n",
       "Name: Price Range, dtype: int64"
      ]
     },
     "execution_count": 7,
     "metadata": {},
     "output_type": "execute_result"
    }
   ],
   "source": [
    "data['Price Range'].value_counts()"
   ]
  },
  {
   "cell_type": "code",
   "execution_count": 8,
   "metadata": {},
   "outputs": [
    {
     "name": "stdout",
     "output_type": "stream",
     "text": [
      "<class 'pandas.core.frame.DataFrame'>\n",
      "Int64Index: 18412 entries, 0 to 39999\n",
      "Data columns (total 10 columns):\n",
      " #   Column             Non-Null Count  Dtype  \n",
      "---  ------             --------------  -----  \n",
      " 0   Restaurant_id      18412 non-null  object \n",
      " 1   City               18412 non-null  object \n",
      " 2   Cuisine Style      18412 non-null  object \n",
      " 3   Ranking            18412 non-null  float64\n",
      " 4   Rating             18412 non-null  float64\n",
      " 5   Price Range        18412 non-null  object \n",
      " 6   Number of Reviews  18197 non-null  float64\n",
      " 7   Reviews            18412 non-null  object \n",
      " 8   URL_TA             18412 non-null  object \n",
      " 9   ID_TA              18412 non-null  object \n",
      "dtypes: float64(3), object(7)\n",
      "memory usage: 1.5+ MB\n"
     ]
    }
   ],
   "source": [
    "data[data['Price Range'] == '$$ - $$$'].info()"
   ]
  },
  {
   "cell_type": "code",
   "execution_count": 9,
   "metadata": {},
   "outputs": [
    {
     "data": {
      "text/plain": [
       "31"
      ]
     },
     "execution_count": 9,
     "metadata": {},
     "output_type": "execute_result"
    }
   ],
   "source": [
    "len(data['City'].unique())"
   ]
  },
  {
   "cell_type": "code",
   "execution_count": 60,
   "metadata": {},
   "outputs": [
    {
     "data": {
      "text/html": [
       "<div>\n",
       "<style scoped>\n",
       "    .dataframe tbody tr th:only-of-type {\n",
       "        vertical-align: middle;\n",
       "    }\n",
       "\n",
       "    .dataframe tbody tr th {\n",
       "        vertical-align: top;\n",
       "    }\n",
       "\n",
       "    .dataframe thead th {\n",
       "        text-align: right;\n",
       "    }\n",
       "</style>\n",
       "<table border=\"1\" class=\"dataframe\">\n",
       "  <thead>\n",
       "    <tr style=\"text-align: right;\">\n",
       "      <th></th>\n",
       "      <th>count</th>\n",
       "      <th>mean</th>\n",
       "      <th>std</th>\n",
       "      <th>min</th>\n",
       "      <th>25%</th>\n",
       "      <th>50%</th>\n",
       "      <th>75%</th>\n",
       "      <th>max</th>\n",
       "    </tr>\n",
       "    <tr>\n",
       "      <th>Price Range</th>\n",
       "      <th></th>\n",
       "      <th></th>\n",
       "      <th></th>\n",
       "      <th></th>\n",
       "      <th></th>\n",
       "      <th></th>\n",
       "      <th></th>\n",
       "      <th></th>\n",
       "    </tr>\n",
       "  </thead>\n",
       "  <tbody>\n",
       "    <tr>\n",
       "      <th>$</th>\n",
       "      <td>6279.0</td>\n",
       "      <td>4.092371</td>\n",
       "      <td>0.620983</td>\n",
       "      <td>1.0</td>\n",
       "      <td>4.0</td>\n",
       "      <td>4.0</td>\n",
       "      <td>4.5</td>\n",
       "      <td>5.0</td>\n",
       "    </tr>\n",
       "    <tr>\n",
       "      <th>$$ - $$$</th>\n",
       "      <td>18412.0</td>\n",
       "      <td>3.987427</td>\n",
       "      <td>0.545240</td>\n",
       "      <td>1.0</td>\n",
       "      <td>3.5</td>\n",
       "      <td>4.0</td>\n",
       "      <td>4.5</td>\n",
       "      <td>5.0</td>\n",
       "    </tr>\n",
       "    <tr>\n",
       "      <th>$$$$</th>\n",
       "      <td>1423.0</td>\n",
       "      <td>4.204849</td>\n",
       "      <td>0.481395</td>\n",
       "      <td>1.0</td>\n",
       "      <td>4.0</td>\n",
       "      <td>4.5</td>\n",
       "      <td>4.5</td>\n",
       "      <td>5.0</td>\n",
       "    </tr>\n",
       "  </tbody>\n",
       "</table>\n",
       "</div>"
      ],
      "text/plain": [
       "               count      mean       std  min  25%  50%  75%  max\n",
       "Price Range                                                      \n",
       "$             6279.0  4.092371  0.620983  1.0  4.0  4.0  4.5  5.0\n",
       "$$ - $$$     18412.0  3.987427  0.545240  1.0  3.5  4.0  4.5  5.0\n",
       "$$$$          1423.0  4.204849  0.481395  1.0  4.0  4.5  4.5  5.0"
      ]
     },
     "execution_count": 60,
     "metadata": {},
     "output_type": "execute_result"
    }
   ],
   "source": [
    "data.groupby(by = 'Price Range').Rating.describe()"
   ]
  },
  {
   "cell_type": "code",
   "execution_count": 10,
   "metadata": {},
   "outputs": [
    {
     "data": {
      "text/plain": [
       "count    13886.000000\n",
       "mean         3.933854\n",
       "std          0.825939\n",
       "min          1.000000\n",
       "25%          3.500000\n",
       "50%          4.000000\n",
       "75%          4.500000\n",
       "max          5.000000\n",
       "Name: Rating, dtype: float64"
      ]
     },
     "execution_count": 10,
     "metadata": {},
     "output_type": "execute_result"
    }
   ],
   "source": [
    "data[data['Price Range'].isna()].Rating.describe()"
   ]
  },
  {
   "cell_type": "code",
   "execution_count": 11,
   "metadata": {},
   "outputs": [],
   "source": [
    "# create numerical column to capture Price Range information\n",
    "nbPriceRange = [2]*40000\n",
    "i = 0\n",
    "for elem in data['Price Range']:\n",
    "    if elem == '$':\n",
    "        nbPriceRange[i] = 1\n",
    "    elif elem == '$$$$':\n",
    "        nbPriceRange[i] = 3\n",
    "    i += 1\n",
    "data['PriceRangeNb'] = nbPriceRange"
   ]
  },
  {
   "cell_type": "code",
   "execution_count": 12,
   "metadata": {},
   "outputs": [
    {
     "name": "stdout",
     "output_type": "stream",
     "text": [
      "125\n",
      "2.6224\n"
     ]
    },
    {
     "data": {
      "text/plain": [
       "\"'Vegetarian Friendly'\""
      ]
     },
     "execution_count": 12,
     "metadata": {},
     "output_type": "execute_result"
    }
   ],
   "source": [
    "# code to help answering questions on cuisins\n",
    "import numpy as np\n",
    "cuisinesCount = {}\n",
    "nbStyles = []\n",
    "for elem in data['Cuisine Style']:\n",
    "    if elem != elem:\n",
    "        nbStyles.append(1)\n",
    "    else:\n",
    "        listTmp = elem[1:-1].split(\", \")\n",
    "        nbStyles.append(len(listTmp))\n",
    "        for style in listTmp:\n",
    "            if style in cuisinesCount: \n",
    "                cuisinesCount[style] += 1\n",
    "            else:\n",
    "                cuisinesCount[style] = 1\n",
    "        \n",
    "print(len(cuisinesCount))\n",
    "print(sum(nbStyles)/len(nbStyles))\n",
    "sorted(cuisinesCount, key=cuisinesCount.get, reverse=True)[0]"
   ]
  },
  {
   "cell_type": "code",
   "execution_count": 13,
   "metadata": {},
   "outputs": [],
   "source": [
    "# adding 3 numerical columns with 2 flags for European and Vegetarian cuisines, and number of cuisine styles\n",
    "europFlag = []\n",
    "vegetFlag = []\n",
    "for elem in data['Cuisine Style']:\n",
    "    if (elem != elem) or (\"'Vegetarian Friendly'\" not in elem):\n",
    "        vegetFlag.append(0)\n",
    "    else:\n",
    "        vegetFlag.append(1)\n",
    "    if (elem != elem) or (\"'European'\" not in elem):\n",
    "        europFlag.append(0)\n",
    "    else:\n",
    "        europFlag.append(1)\n",
    "\n",
    "data['isEuropean'] = europFlag\n",
    "data['isVegetarian'] = vegetFlag\n",
    "data['nbCuisines'] = nbStyles"
   ]
  },
  {
   "cell_type": "code",
   "execution_count": 14,
   "metadata": {},
   "outputs": [
    {
     "data": {
      "text/plain": [
       "\"[['Good food at your doorstep', 'A good hotel restaurant'], ['12/31/2017', '11/20/2017']]\""
      ]
     },
     "execution_count": 14,
     "metadata": {},
     "output_type": "execute_result"
    }
   ],
   "source": [
    "from datetime import datetime\n",
    "import re"
   ]
  },
  {
   "cell_type": "code",
   "execution_count": 107,
   "metadata": {
    "scrolled": true
   },
   "outputs": [
    {
     "name": "stdout",
     "output_type": "stream",
     "text": [
      "2018-02-26 2018-02-26 3207\n"
     ]
    }
   ],
   "source": [
    "# dealing with dates of reviews\n",
    "dayDiff = []\n",
    "day1 = [] # will be used as an additional variable to show the date of the 1st avaiable review\n",
    "day2 = [] # will be used as an additional variable to show the date of the 2nd avaiable review\n",
    "day1_clean = [] # will be used for an array of dates to calculate max\n",
    "day2_clean = [] # will be used for an array of dates to calculate max\n",
    "date_today = datetime(2019,1,2).date() # arbitrary selected date in the future relative to the review dates\n",
    "for elem in data['Reviews']:\n",
    "    if len(elem) < 9:\n",
    "        dayDiff.append(0)\n",
    "        day1.append(0)\n",
    "        day2.append(0)\n",
    "    else:\n",
    "        match = re.findall(r'\\d{2}/\\d{2}/\\d{4}', elem)\n",
    "        date1 = datetime.strptime(match[0], '%m/%d/%Y').date()\n",
    "        day1_clean.append(date1)\n",
    "        day1.append(abs((date_today-date1).days))\n",
    "        if len(match) < 2:\n",
    "            day2.append(0)\n",
    "            dayDiff.append(0)\n",
    "        else:\n",
    "            date2 = datetime.strptime(match[1], '%m/%d/%Y').date()\n",
    "            day2_clean.append(date2)\n",
    "            dayDiff.append(abs((date2-date1).days))\n",
    "            day2.append(abs((date_today-date2).days))\n",
    "\n",
    "print(max(day2_clean),max(day1_clean), max(dayDiff))"
   ]
  },
  {
   "cell_type": "code",
   "execution_count": 90,
   "metadata": {},
   "outputs": [
    {
     "data": {
      "text/html": [
       "<div>\n",
       "<style scoped>\n",
       "    .dataframe tbody tr th:only-of-type {\n",
       "        vertical-align: middle;\n",
       "    }\n",
       "\n",
       "    .dataframe tbody tr th {\n",
       "        vertical-align: top;\n",
       "    }\n",
       "\n",
       "    .dataframe thead th {\n",
       "        text-align: right;\n",
       "    }\n",
       "</style>\n",
       "<table border=\"1\" class=\"dataframe\">\n",
       "  <thead>\n",
       "    <tr style=\"text-align: right;\">\n",
       "      <th></th>\n",
       "      <th>Ranking</th>\n",
       "      <th>Rating</th>\n",
       "      <th>Number of Reviews</th>\n",
       "      <th>PriceRangeNb</th>\n",
       "      <th>isEuropean</th>\n",
       "      <th>isVegetarian</th>\n",
       "      <th>nbCuisines</th>\n",
       "      <th>day1</th>\n",
       "      <th>day2</th>\n",
       "      <th>dayDiff</th>\n",
       "    </tr>\n",
       "  </thead>\n",
       "  <tbody>\n",
       "    <tr>\n",
       "      <th>Ranking</th>\n",
       "      <td>1.000000</td>\n",
       "      <td>-0.368371</td>\n",
       "      <td>-0.222072</td>\n",
       "      <td>-0.026525</td>\n",
       "      <td>-0.279235</td>\n",
       "      <td>-0.300139</td>\n",
       "      <td>-0.320250</td>\n",
       "      <td>0.093095</td>\n",
       "      <td>0.035902</td>\n",
       "      <td>0.065661</td>\n",
       "    </tr>\n",
       "    <tr>\n",
       "      <th>Rating</th>\n",
       "      <td>-0.368371</td>\n",
       "      <td>1.000000</td>\n",
       "      <td>0.026924</td>\n",
       "      <td>-0.028588</td>\n",
       "      <td>0.047848</td>\n",
       "      <td>0.128356</td>\n",
       "      <td>0.120059</td>\n",
       "      <td>-0.062151</td>\n",
       "      <td>-0.056721</td>\n",
       "      <td>-0.065990</td>\n",
       "    </tr>\n",
       "    <tr>\n",
       "      <th>Number of Reviews</th>\n",
       "      <td>-0.222072</td>\n",
       "      <td>0.026924</td>\n",
       "      <td>1.000000</td>\n",
       "      <td>0.107162</td>\n",
       "      <td>0.212746</td>\n",
       "      <td>0.364499</td>\n",
       "      <td>0.405641</td>\n",
       "      <td>-0.074303</td>\n",
       "      <td>-0.015396</td>\n",
       "      <td>-0.086586</td>\n",
       "    </tr>\n",
       "    <tr>\n",
       "      <th>PriceRangeNb</th>\n",
       "      <td>-0.026525</td>\n",
       "      <td>-0.028588</td>\n",
       "      <td>0.107162</td>\n",
       "      <td>1.000000</td>\n",
       "      <td>0.096237</td>\n",
       "      <td>0.019858</td>\n",
       "      <td>0.003177</td>\n",
       "      <td>-0.033764</td>\n",
       "      <td>-0.047934</td>\n",
       "      <td>-0.039184</td>\n",
       "    </tr>\n",
       "    <tr>\n",
       "      <th>isEuropean</th>\n",
       "      <td>-0.279235</td>\n",
       "      <td>0.047848</td>\n",
       "      <td>0.212746</td>\n",
       "      <td>0.096237</td>\n",
       "      <td>1.000000</td>\n",
       "      <td>0.266105</td>\n",
       "      <td>0.484885</td>\n",
       "      <td>-0.043274</td>\n",
       "      <td>0.026600</td>\n",
       "      <td>-0.057261</td>\n",
       "    </tr>\n",
       "    <tr>\n",
       "      <th>isVegetarian</th>\n",
       "      <td>-0.300139</td>\n",
       "      <td>0.128356</td>\n",
       "      <td>0.364499</td>\n",
       "      <td>0.019858</td>\n",
       "      <td>0.266105</td>\n",
       "      <td>1.000000</td>\n",
       "      <td>0.691884</td>\n",
       "      <td>-0.098582</td>\n",
       "      <td>-0.008180</td>\n",
       "      <td>-0.113006</td>\n",
       "    </tr>\n",
       "    <tr>\n",
       "      <th>nbCuisines</th>\n",
       "      <td>-0.320250</td>\n",
       "      <td>0.120059</td>\n",
       "      <td>0.405641</td>\n",
       "      <td>0.003177</td>\n",
       "      <td>0.484885</td>\n",
       "      <td>0.691884</td>\n",
       "      <td>1.000000</td>\n",
       "      <td>-0.109530</td>\n",
       "      <td>0.004356</td>\n",
       "      <td>-0.117791</td>\n",
       "    </tr>\n",
       "    <tr>\n",
       "      <th>day1</th>\n",
       "      <td>0.093095</td>\n",
       "      <td>-0.062151</td>\n",
       "      <td>-0.074303</td>\n",
       "      <td>-0.033764</td>\n",
       "      <td>-0.043274</td>\n",
       "      <td>-0.098582</td>\n",
       "      <td>-0.109530</td>\n",
       "      <td>1.000000</td>\n",
       "      <td>0.475998</td>\n",
       "      <td>0.193205</td>\n",
       "    </tr>\n",
       "    <tr>\n",
       "      <th>day2</th>\n",
       "      <td>0.035902</td>\n",
       "      <td>-0.056721</td>\n",
       "      <td>-0.015396</td>\n",
       "      <td>-0.047934</td>\n",
       "      <td>0.026600</td>\n",
       "      <td>-0.008180</td>\n",
       "      <td>0.004356</td>\n",
       "      <td>0.475998</td>\n",
       "      <td>1.000000</td>\n",
       "      <td>0.720756</td>\n",
       "    </tr>\n",
       "    <tr>\n",
       "      <th>dayDiff</th>\n",
       "      <td>0.065661</td>\n",
       "      <td>-0.065990</td>\n",
       "      <td>-0.086586</td>\n",
       "      <td>-0.039184</td>\n",
       "      <td>-0.057261</td>\n",
       "      <td>-0.113006</td>\n",
       "      <td>-0.117791</td>\n",
       "      <td>0.193205</td>\n",
       "      <td>0.720756</td>\n",
       "      <td>1.000000</td>\n",
       "    </tr>\n",
       "  </tbody>\n",
       "</table>\n",
       "</div>"
      ],
      "text/plain": [
       "                    Ranking    Rating  Number of Reviews  PriceRangeNb  \\\n",
       "Ranking            1.000000 -0.368371          -0.222072     -0.026525   \n",
       "Rating            -0.368371  1.000000           0.026924     -0.028588   \n",
       "Number of Reviews -0.222072  0.026924           1.000000      0.107162   \n",
       "PriceRangeNb      -0.026525 -0.028588           0.107162      1.000000   \n",
       "isEuropean        -0.279235  0.047848           0.212746      0.096237   \n",
       "isVegetarian      -0.300139  0.128356           0.364499      0.019858   \n",
       "nbCuisines        -0.320250  0.120059           0.405641      0.003177   \n",
       "day1               0.093095 -0.062151          -0.074303     -0.033764   \n",
       "day2               0.035902 -0.056721          -0.015396     -0.047934   \n",
       "dayDiff            0.065661 -0.065990          -0.086586     -0.039184   \n",
       "\n",
       "                   isEuropean  isVegetarian  nbCuisines      day1      day2  \\\n",
       "Ranking             -0.279235     -0.300139   -0.320250  0.093095  0.035902   \n",
       "Rating               0.047848      0.128356    0.120059 -0.062151 -0.056721   \n",
       "Number of Reviews    0.212746      0.364499    0.405641 -0.074303 -0.015396   \n",
       "PriceRangeNb         0.096237      0.019858    0.003177 -0.033764 -0.047934   \n",
       "isEuropean           1.000000      0.266105    0.484885 -0.043274  0.026600   \n",
       "isVegetarian         0.266105      1.000000    0.691884 -0.098582 -0.008180   \n",
       "nbCuisines           0.484885      0.691884    1.000000 -0.109530  0.004356   \n",
       "day1                -0.043274     -0.098582   -0.109530  1.000000  0.475998   \n",
       "day2                 0.026600     -0.008180    0.004356  0.475998  1.000000   \n",
       "dayDiff             -0.057261     -0.113006   -0.117791  0.193205  0.720756   \n",
       "\n",
       "                    dayDiff  \n",
       "Ranking            0.065661  \n",
       "Rating            -0.065990  \n",
       "Number of Reviews -0.086586  \n",
       "PriceRangeNb      -0.039184  \n",
       "isEuropean        -0.057261  \n",
       "isVegetarian      -0.113006  \n",
       "nbCuisines        -0.117791  \n",
       "day1               0.193205  \n",
       "day2               0.720756  \n",
       "dayDiff            1.000000  "
      ]
     },
     "execution_count": 90,
     "metadata": {},
     "output_type": "execute_result"
    }
   ],
   "source": [
    "# adding new variables to the dataset\n",
    "data['day1'] = day1\n",
    "data['day2'] = day2\n",
    "data['dayDiff'] = dayDiff\n",
    "data_clean2 = data.drop(['Restaurant_id', 'City', 'Cuisine Style', 'Price Range', 'Reviews', 'URL_TA', 'ID_TA'], axis = 1)\n",
    "data_clean2['Number of Reviews'].fillna(0, inplace = True)\n",
    "data_clean2.head()  \n",
    "data_clean2.corr() "
   ]
  },
  {
   "cell_type": "code",
   "execution_count": 54,
   "metadata": {},
   "outputs": [
    {
     "data": {
      "text/plain": [
       "[<matplotlib.lines.Line2D at 0x1413baf0>]"
      ]
     },
     "execution_count": 54,
     "metadata": {},
     "output_type": "execute_result"
    },
    {
     "data": {
      "image/png": "[encoded data removed]",
      "text/plain": [
       "<Figure size 432x288 with 1 Axes>"
      ]
     },
     "metadata": {
      "needs_background": "light"
     },
     "output_type": "display_data"
    }
   ],
   "source": [
    "from matplotlib import pyplot\n",
    "pyplot.plot(dayDiff,data['Rating'],'rx')"
   ]
  },
  {
   "cell_type": "code",
   "execution_count": 56,
   "metadata": {},
   "outputs": [
    {
     "data": {
      "text/plain": [
       "[<matplotlib.lines.Line2D at 0x7142cd0>]"
      ]
     },
     "execution_count": 56,
     "metadata": {},
     "output_type": "execute_result"
    },
    {
     "data": {
      "image/png": "[encoded data removed]",
      "text/plain": [
       "<Figure size 432x288 with 1 Axes>"
      ]
     },
     "metadata": {
      "needs_background": "light"
     },
     "output_type": "display_data"
    }
   ],
   "source": [
    "pyplot.plot(dayDiff,data['Rating'],'rx') \n",
    "# it was checked if it makes sense to have the dateDifference set to 4000 instead of 0 when dates are not available"
   ]
  },
  {
   "cell_type": "code",
   "execution_count": 75,
   "metadata": {},
   "outputs": [
    {
     "data": {
      "text/plain": [
       "[<matplotlib.lines.Line2D at 0x1745fe80>]"
      ]
     },
     "execution_count": 75,
     "metadata": {},
     "output_type": "execute_result"
    },
    {
     "data": {
      "image/png": "[encoded data removed]",
      "text/plain": [
       "<Figure size 432x288 with 1 Axes>"
      ]
     },
     "metadata": {
      "needs_background": "light"
     },
     "output_type": "display_data"
    }
   ],
   "source": [
    "pyplot.plot(day2, data['Rating'],'rx')"
   ]
  },
  {
   "cell_type": "code",
   "execution_count": 104,
   "metadata": {},
   "outputs": [],
   "source": [
    "X_3 = data_clean2.drop(['Rating','day2'], axis = 1)\n",
    "y_3 = data_clean2['Rating']\n",
    "X_train, X_test, y_train, y_test = train_test_split(X_3, y_3, test_size=0.25)"
   ]
  },
  {
   "cell_type": "code",
   "execution_count": 105,
   "metadata": {},
   "outputs": [],
   "source": [
    "# Создаём модель\n",
    "regr = RandomForestRegressor(n_estimators=100)\n",
    "\n",
    "# Обучаем модель на тестовом наборе данных\n",
    "regr.fit(X_train, y_train)\n",
    "\n",
    "# Используем обученную модель для предсказания рейтинга ресторанов в тестовой выборке.\n",
    "# Предсказанные значения записываем в переменную y_pred\n",
    "y_pred = regr.predict(X_test)"
   ]
  },
  {
   "cell_type": "code",
   "execution_count": 106,
   "metadata": {},
   "outputs": [
    {
     "name": "stdout",
     "output_type": "stream",
     "text": [
      "MAE: 0.3778576892857143\n"
     ]
    }
   ],
   "source": [
    "print('MAE:', metrics.mean_absolute_error(y_test, y_pred))"
   ]
  },
  {
   "cell_type": "code",
   "execution_count": null,
   "metadata": {},
   "outputs": [],
   "source": []
  }
 ],
 "metadata": {
  "kernelspec": {
   "display_name": "Python 3",
   "language": "python",
   "name": "python3"
  },
  "language_info": {
   "codemirror_mode": {
    "name": "ipython",
    "version": 3
   },
   "file_extension": ".py",
   "mimetype": "text/x-python",
   "name": "python",
   "nbconvert_exporter": "python",
   "pygments_lexer": "ipython3",
   "version": "3.8.3"
  }
 },
 "nbformat": 4,
 "nbformat_minor": 4
}
